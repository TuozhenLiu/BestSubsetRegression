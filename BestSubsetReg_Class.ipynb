{
 "cells": [
  {
   "cell_type": "code",
   "execution_count": 9,
   "metadata": {},
   "outputs": [],
   "source": [
    "import numpy as np\n",
    "from scipy import linalg\n",
    "from scipy.stats import norm\n",
    "import random\n",
    "\n",
    "\n",
    "def turnbits_rec(p):\n",
    "    if (p == 1):\n",
    "        return np.array([[True, False], [True, True]])\n",
    "    else:\n",
    "        tmp1 = np.c_[turnbits_rec(p - 1),\n",
    "                     np.array([False] * (2**(p - 1))).reshape((2**(p - 1), 1))]\n",
    "        tmp2 = np.c_[turnbits_rec(p - 1),\n",
    "                     np.array([True] * (2**(p - 1))).reshape((2**(p - 1), 1))]\n",
    "        return np.r_[tmp1, tmp2]\n",
    "\n",
    "\n",
    "def mse(xtx_t, xty_t, beta):\n",
    "    return (np.sum(np.dot(xtx_t, beta) * beta) - 2 * np.sum(xty_t * beta))\n",
    "\n",
    "\n",
    "def solve_sym(xtx, xty):\n",
    "    L = linalg.cholesky(xtx)\n",
    "    return linalg.lapack.dpotrs(L, xty)[0]"
   ]
  },
  {
   "cell_type": "code",
   "execution_count": 17,
   "metadata": {},
   "outputs": [],
   "source": [
    "class BestSubsetReg(object):\n",
    "    def __init__(self, x, y, inter=True, isCp=True, isAIC=True, isCV=True):\n",
    "        self.__n, self.__p = x.shape\n",
    "        if inter:\n",
    "            self.__x = np.c_[np.ones((self.__n, 1)), x]\n",
    "            self.__ind_var = turnbits_rec(self.__p)\n",
    "        else:\n",
    "            self.__x = x\n",
    "            self.__ind_var = turnbits_rec(self.__p)[:, 1:]\n",
    "        self.__y = y\n",
    "        self.__xTx = np.dot(self.__x.T, self.__x)\n",
    "        self.__xTy = np.dot(self.__x.T, self.__y)\n",
    "        self.__b = [\n",
    "            solve_sym(self.__xTx[ind][:, ind], self.__xTy[ind])\n",
    "            for ind in self.__ind_var\n",
    "        ]\n",
    "        self.__isCp = isCp\n",
    "        self.__isAIC = isAIC\n",
    "        self.__isCV = isCV\n",
    "\n",
    "    def __Cp_AIC(self):\n",
    "        rss = np.dot(self.__y, self.__y) - [\n",
    "            np.sum(np.dot(self.__xTx[ind][:, ind], b_) * b_)\n",
    "            for ind, b_ in zip(self.__ind_var, self.__b)\n",
    "        ]\n",
    "        d = np.sum(self.__ind_var, axis=1)\n",
    "        if self.__isCp:\n",
    "            self.Cp = rss + 2 * d * rss[-1] / (self.__n - self.__p - 1)\n",
    "        if self.__isAIC:\n",
    "            self.AIC = self.__n * np.log(rss) + 2 * d\n",
    "\n",
    "    def __cvreg(self):\n",
    "        K = 10\n",
    "        indexs = np.array_split(np.random.permutation(np.arange(0, self.__n)), K)\n",
    "\n",
    "        def cvk(ind, index):\n",
    "            txx = self.__xTx[ind][:, ind] - np.dot(\n",
    "                (self.__x[index][:, ind]).T, self.__x[index][:, ind])\n",
    "            txy = self.__xTy[ind] - np.dot(\n",
    "                (self.__x[index][:, ind]).T, self.__y[index])\n",
    "            tcoe = solve_sym(txx, txy)\n",
    "            return np.sum(\n",
    "                (self.__y[index] - np.dot(self.__x[index][:, ind], tcoe))**2)\n",
    "\n",
    "        self.cverr = np.sum(np.array([[cvk(ind, index) for index in indexs]\n",
    "                                      for ind in self.__ind_var]),\n",
    "                            axis=1) / self.__n\n",
    "\n",
    "    def output(self, isPrint=True):\n",
    "        \"\"\"\n",
    "        If inter=True, first item is intercept, Otherwise it is X1. \n",
    "        If print=False, save results only and do not print.\n",
    "        \"\"\"\n",
    "        if self.__isCp | self.__isAIC:\n",
    "            self.__Cp_AIC()\n",
    "            if self.__isCp:\n",
    "                min_id = np.argmin(self.Cp)\n",
    "                self.Cp = [self.__ind_var[min_id][0:], self.__b[min_id]]\n",
    "                if isPrint:\n",
    "                    print(\"Cp：\\nVariable：\", self.Cp[0])\n",
    "                    print(\"Coefficient：\", self.Cp[1])\n",
    "            if self.__isAIC:\n",
    "                min_id = np.argmin(self.AIC)\n",
    "                self.AIC = [self.__ind_var[min_id][0:], self.__b[min_id]]\n",
    "                if isPrint:\n",
    "                    print(\"AIC：\\nVariable：\", self.AIC[0])\n",
    "                    print(\"Coefficient：\", self.AIC[1])\n",
    "        if self.__isCV:\n",
    "            self.__cvreg()\n",
    "            min_id = np.argmin(self.cverr)\n",
    "            self.cverr = [self.__ind_var[min_id][0:], self.__b[min_id]]\n",
    "            if isPrint:\n",
    "                print(\"Cross Validation：\\nVariable：\", self.cverr[0])\n",
    "                print(\"Coefficient：\", self.cverr[1])"
   ]
  },
  {
   "cell_type": "code",
   "execution_count": 18,
   "metadata": {},
   "outputs": [],
   "source": [
    "x = np.loadtxt(\"./prostate/x.txt\", delimiter=\",\")\n",
    "y = np.loadtxt(\"./prostate/y.txt\", delimiter=\",\")\n",
    "B = BestSubsetReg(x=x, y=y)"
   ]
  },
  {
   "cell_type": "code",
   "execution_count": 19,
   "metadata": {},
   "outputs": [
    {
     "name": "stdout",
     "output_type": "stream",
     "text": [
      "Cp：\n",
      "Variable： [ True  True  True  True  True  True False False False]\n",
      "Coefficient： [ 0.49472926  0.54399786  0.5882127  -0.01644485  0.10122333  0.71490398]\n",
      "AIC：\n",
      "Variable： [ True  True  True  True  True  True False False False]\n",
      "Coefficient： [ 0.49472926  0.54399786  0.5882127  -0.01644485  0.10122333  0.71490398]\n",
      "Cross Validation：\n",
      "Variable： [ True  True  True  True False  True False False  True]\n",
      "Coefficient： [-0.19492614  0.51381362  0.7460692  -0.01486621  0.57882755  0.00395174]\n"
     ]
    },
    {
     "data": {
      "text/plain": [
       "[array([ True,  True,  True,  True,  True,  True, False, False, False]),\n",
       " array([ 0.49472926,  0.54399786,  0.5882127 , -0.01644485,  0.10122333,\n",
       "         0.71490398])]"
      ]
     },
     "execution_count": 19,
     "metadata": {},
     "output_type": "execute_result"
    }
   ],
   "source": [
    "B.output()\n",
    "B.Cp"
   ]
  }
 ],
 "metadata": {
  "kernelspec": {
   "display_name": "Python 3",
   "language": "python",
   "name": "python3"
  },
  "language_info": {
   "codemirror_mode": {
    "name": "ipython",
    "version": 3
   },
   "file_extension": ".py",
   "mimetype": "text/x-python",
   "name": "python",
   "nbconvert_exporter": "python",
   "pygments_lexer": "ipython3",
   "version": "3.7.0"
  },
  "varInspector": {
   "cols": {
    "lenName": 16,
    "lenType": 16,
    "lenVar": 40
   },
   "kernels_config": {
    "python": {
     "delete_cmd_postfix": "",
     "delete_cmd_prefix": "del ",
     "library": "var_list.py",
     "varRefreshCmd": "print(var_dic_list())"
    },
    "r": {
     "delete_cmd_postfix": ") ",
     "delete_cmd_prefix": "rm(",
     "library": "var_list.r",
     "varRefreshCmd": "cat(var_dic_list()) "
    }
   },
   "types_to_exclude": [
    "module",
    "function",
    "builtin_function_or_method",
    "instance",
    "_Feature"
   ],
   "window_display": false
  }
 },
 "nbformat": 4,
 "nbformat_minor": 2
}
